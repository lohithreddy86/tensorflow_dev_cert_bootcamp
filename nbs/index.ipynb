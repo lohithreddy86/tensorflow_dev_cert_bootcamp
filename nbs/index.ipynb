{
 "cells": [
  {
   "cell_type": "code",
   "execution_count": null,
   "metadata": {},
   "outputs": [],
   "source": [
    "#| hide\n",
    "from tensorflow_dev_cert_bootcamp.core import *"
   ]
  },
  {
   "cell_type": "markdown",
   "metadata": {},
   "source": [
    "# tensorflow_dev_cert_bootcamp\n",
    "\n",
    "> Tensorflow certification bootcamp course notes"
   ]
  },
  {
   "cell_type": "markdown",
   "metadata": {},
   "source": [
    "This file will become your README and also the index of your documentation."
   ]
  },
  {
   "attachments": {},
   "cell_type": "markdown",
   "metadata": {},
   "source": [
    "## GIT Commands"
   ]
  },
  {
   "attachments": {},
   "cell_type": "markdown",
   "metadata": {},
   "source": [
    "#| hide\n",
    "```sh\n",
    "pip install tensorflow_dev_cert_bootcamp\n",
    "```"
   ]
  },
  {
   "attachments": {},
   "cell_type": "markdown",
   "metadata": {},
   "source": [
    "git status => to find the uncommitted files in local git repo \n",
    "\n",
    "git add .  => to add all files from repo for commit \n",
    "git add <specific file name> => for adding any specific file for commit\n",
    "\n",
    "sudo git commit -m \"commit message\"  => this makes files ready for commit with comment\n",
    "\n",
    "sudo git push origin <branch_name> \n",
    "\n",
    "sudo git push  => pushes changes and syncs the remote with local\n",
    "\t\t\t\t=> this will ask git username and password post that commits the local to remote/online public repo"
   ]
  },
  {
   "attachments": {},
   "cell_type": "markdown",
   "metadata": {},
   "source": [
    "## Cookiecutter steps"
   ]
  },
  {
   "attachments": {},
   "cell_type": "markdown",
   "metadata": {},
   "source": [
    "1. navigate to the folder where you want to create a new project\n",
    "\teg - cd /home/dlvaayuai/storage/\n",
    "\n",
    "3. activate the required conda environment\n",
    "\teg - conda activate deep_lrnr\n",
    "\n",
    "4. cookiecutter -c v1 https://github.com/drivendata/cookiecutter-data-science\n",
    "\tanswer questions\n",
    "\tproject with template folder structure is created\n",
    "\t\n",
    "5. git init\n",
    "6. git add .\n",
    "7. git status\n",
    "8. git config --global user.email \"lohithreddy86@gmail.com\"\n",
    "9. git config --global user.name \"lohithreddy86\"\n",
    "10. git commit -m \"Initial Commit with files and folder created through cookie cutter\"\n",
    "11. git branch -M main\n",
    "12. Go to github and create the new repository  eg - tensorflow_dev_cert_bootcamp\n",
    "13. git remote add origin https://github.com/lohithreddy86/tensorflow_dev_cert_bootcamp.git\n",
    "14. git push -u origin main"
   ]
  },
  {
   "attachments": {},
   "cell_type": "markdown",
   "metadata": {},
   "source": [
    "## How to Generate Nbdev docs"
   ]
  },
  {
   "attachments": {},
   "cell_type": "markdown",
   "metadata": {},
   "source": [
    " The below steps helps to generate the documentation of the learnings as webpage and the same can be accessed through GIT for future refernces"
   ]
  },
  {
   "attachments": {},
   "cell_type": "markdown",
   "metadata": {},
   "source": [
    "Once the ML project template is created through cookiecutter\n",
    "\n",
    "1. Rename the notebooks folder to nbs\n",
    "\n",
    "2. Then run command \"nbdev_new\" in terminal\n",
    "\n",
    "    nbdev_new =>\n",
    "        This command would generate the necessary files within the project repository folder required for the - module build purposes and for documentation.\n",
    "\n",
    "3. for document only repository - like practise or learning projects     refer - https://nbdev.fast.ai/tutorials/docs_only.html\n",
    "\n",
    "    run below commands \n",
    "        rm setup.py .github/workflows/test.yaml nbs/00_core.ipynb\n",
    "\n",
    "    Remove your library folder (this will be the lib_path field in settings.ini)    \n",
    "\n",
    "4. Then run command \"nbdev_docs\" in terminal\n",
    "\n",
    "    This command will generate html pages for all the jupyter notebooks.\n",
    "\n",
    "        https://nbdev.fast.ai/api/quarto.html#nbdev_docs\n",
    "\n",
    "5. push the changes to git repository\n",
    "\n",
    "6. Access webpage pertaining to a specific jupyter note book with github pages link appended with html page generated for the notebook. which can be checked in _docs folder in the repository.\n",
    "\n",
    "    for the html generated for the notebook \"tensorflow_dev_cert_bootcamp/nbs/1_DL_and_TF_Fundamentals.ipynb\" the _docs folder has html page \"_docs/dl_and_tf_fundamentals.html\"\n",
    "    Hence we need to append \"dl_and_tf_fundamentals\" to the existing github repo pages which is \"https://lohithreddy86.github.io/tensorflow_dev_cert_bootcamp/\" as below.\n",
    "\n",
    "        https://lohithreddy86.github.io/tensorflow_dev_cert_bootcamp/dl_and_tf_fundamentals\n",
    "    "
   ]
  },
  {
   "cell_type": "code",
   "execution_count": null,
   "metadata": {},
   "outputs": [],
   "source": []
  }
 ],
 "metadata": {
  "kernelspec": {
   "display_name": "python3",
   "language": "python",
   "name": "python3"
  }
 },
 "nbformat": 4,
 "nbformat_minor": 4
}
