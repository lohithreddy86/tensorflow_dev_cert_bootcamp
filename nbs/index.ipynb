{
 "cells": [
  {
   "cell_type": "code",
   "execution_count": null,
   "metadata": {},
   "outputs": [],
   "source": [
    "#| hide\n",
    "from tensorflow_dev_cert_bootcamp.core import *"
   ]
  },
  {
   "cell_type": "markdown",
   "metadata": {},
   "source": [
    "# tensorflow_dev_cert_bootcamp\n",
    "\n",
    "> Tensorflow certification bootcamp course notes"
   ]
  },
  {
   "cell_type": "markdown",
   "metadata": {},
   "source": [
    "This file will become your README and also the index of your documentation."
   ]
  },
  {
   "cell_type": "markdown",
   "metadata": {},
   "source": [
    "## Install"
   ]
  },
  {
   "attachments": {},
   "cell_type": "markdown",
   "metadata": {},
   "source": [
    "#| hide\n",
    "```sh\n",
    "pip install tensorflow_dev_cert_bootcamp\n",
    "```"
   ]
  },
  {
   "attachments": {},
   "cell_type": "markdown",
   "metadata": {},
   "source": [
    "## How to Generate Nbdev docs"
   ]
  },
  {
   "attachments": {},
   "cell_type": "markdown",
   "metadata": {},
   "source": [
    " The below steps helps to generate the documentation of the learning as webpage and the same can be accessed through GIT for future refernces"
   ]
  },
  {
   "attachments": {},
   "cell_type": "markdown",
   "metadata": {},
   "source": [
    "Once the ML project template is created through cookiecutter\n",
    "\n",
    "1. Rename the notebooks folder to nbs\n",
    "\n",
    "2. Then run command \"nbdev_new\" in terminal\n",
    "\n",
    "    nbdev_new =>\n",
    "        This command would generate the necessary files within the project repository folder required for the - module build purposes and for documentation.\n",
    "\n",
    "3. for document only repository - like practise or learning projects     refer - https://nbdev.fast.ai/tutorials/docs_only.html\n",
    "\n",
    "    run below commands \n",
    "        rm setup.py .github/workflows/test.yaml nbs/00_core.ipynb\n",
    "\n",
    "    Remove your library folder (this will be the lib_path field in settings.ini)    \n",
    "\n",
    "4. Then run command \"nbdev_docs\" in terminal\n",
    "\n",
    "    This command will generate html pages for all the jupyter notebooks.\n",
    "\n",
    "        https://nbdev.fast.ai/api/quarto.html#nbdev_docs\n",
    "\n",
    "5. push the changes to git repository\n",
    "\n",
    "6. Access webpage pertaining to a specific jupyter note book with github pages link appended with html page generated for the notebook. which can be checked in _docs folder in the repository.\n",
    "\n",
    "    for the html generated for the notebook \"tensorflow_dev_cert_bootcamp/nbs/1_DL_and_TF_Fundamentals.ipynb\" the _docs folder has html page \"_docs/dl_and_tf_fundamentals.html\"\n",
    "    Hence we need to append \"dl_and_tf_fundamentals\" to the existing github repo pages which is \"https://lohithreddy86.github.io/tensorflow_dev_cert_bootcamp/\" as below.\n",
    "\n",
    "        https://lohithreddy86.github.io/tensorflow_dev_cert_bootcamp/dl_and_tf_fundamentals\n",
    "    "
   ]
  },
  {
   "cell_type": "code",
   "execution_count": null,
   "metadata": {},
   "outputs": [],
   "source": []
  }
 ],
 "metadata": {
  "kernelspec": {
   "display_name": "python3",
   "language": "python",
   "name": "python3"
  }
 },
 "nbformat": 4,
 "nbformat_minor": 4
}
